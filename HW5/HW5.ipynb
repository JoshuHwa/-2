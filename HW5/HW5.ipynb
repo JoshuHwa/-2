{
 "cells": [
  {
   "cell_type": "markdown",
   "metadata": {},
   "source": [
    "In this exercise, we will predict the number of applications received\n",
    "using the other variables in the College data set.\n",
    "\n",
    "(a) Split the data set into a training set and a test set."
   ]
  },
  {
   "cell_type": "code",
   "execution_count": null,
   "metadata": {},
   "outputs": [
    {
     "name": "stdout",
     "output_type": "stream",
     "text": [
      "Training set size: 543 samples\n",
      "Test set size: 234 samples\n"
     ]
    }
   ],
   "source": [
    "import pandas as pd\n",
    "from sklearn.model_selection import train_test_split\n",
    "from sklearn.preprocessing import StandardScaler\n",
    "\n",
    "# Load the College dataset\n",
    "data = pd.read_csv(\"College.csv\")\n",
    "\n",
    "# Remove the 'Unnamed: 0' column (college names) and encode 'Private'\n",
    "data = data.drop(columns=[\"Unnamed: 0\"])\n",
    "data[\"Private\"] = data[\"Private\"].apply(lambda x: 1 if x == \"Yes\" else 0)\n",
    "\n",
    "# Split the dataset into features (X) and target (y)\n",
    "X = data.drop(columns=[\"Apps\"])  # Independent variables\n",
    "y = data[\"Apps\"]  # Dependent variable (number of applications received)\n",
    "\n",
    "# Standardize the features for better performance in ML algorithms\n",
    "scaler = StandardScaler()\n",
    "X_scaled = scaler.fit_transform(X)\n",
    "\n",
    "# Split into training (70%) and test (30%) sets\n",
    "X_train, X_test, y_train, y_test = train_test_split(\n",
    "    X_scaled, y, test_size=0.3, random_state=42\n",
    ")\n",
    "\n",
    "# Output the shapes of the datasets\n",
    "print(f\"Training set size: {X_train.shape[0]} samples\")\n",
    "print(f\"Test set size: {X_test.shape[0]} samples\")"
   ]
  },
  {
   "cell_type": "markdown",
   "metadata": {},
   "source": [
    "(b) Fit a linear model using least squares on the training set, and\n",
    "report the test error obtained."
   ]
  },
  {
   "cell_type": "code",
   "execution_count": null,
   "metadata": {},
   "outputs": [
    {
     "name": "stdout",
     "output_type": "stream",
     "text": [
      "Linear Regression Test Error (MSE): 1931803.1942070152\n"
     ]
    }
   ],
   "source": [
    "from sklearn.linear_model import LinearRegression\n",
    "from sklearn.metrics import mean_squared_error\n",
    "\n",
    "# Step (b): Fit a linear regression model using least squares\n",
    "linear_model = LinearRegression()\n",
    "linear_model.fit(X_train, y_train)  # Train the model on the training set\n",
    "\n",
    "# Predict on the test set\n",
    "y_pred_linear = linear_model.predict(X_test)\n",
    "\n",
    "# Calculate the test error (Mean Squared Error)\n",
    "linear_mse = mean_squared_error(y_test, y_pred_linear)\n",
    "\n",
    "print(f\"Linear Regression Test Error (MSE): {linear_mse}\")"
   ]
  },
  {
   "cell_type": "markdown",
   "metadata": {},
   "source": [
    "(c) Fit a ridge regression model on the training set, with λ chosen\n",
    "by cross-validation. Report the test error obtained."
   ]
  },
  {
   "cell_type": "code",
   "execution_count": null,
   "metadata": {},
   "outputs": [
    {
     "name": "stdout",
     "output_type": "stream",
     "text": [
      "Best λ (alpha) chosen by cross-validation: 1.0\n",
      "Ridge Regression Test Error (MSE): 1901722.50404795\n"
     ]
    }
   ],
   "source": [
    "from sklearn.linear_model import RidgeCV\n",
    "from sklearn.metrics import mean_squared_error\n",
    "\n",
    "# Step (c): Fit a ridge regression model with cross-validation\n",
    "# Use RidgeCV to automatically find the best λ (alpha) using cross-validation\n",
    "ridge_model = RidgeCV(\n",
    "    alphas=[0.1, 1.0, 10.0, 100.0], cv=5\n",
    ")  # Specify α values for cross-validation\n",
    "ridge_model.fit(X_train, y_train)  # Train the model on the training set\n",
    "\n",
    "# Predict on the test set\n",
    "y_pred_ridge = ridge_model.predict(X_test)\n",
    "\n",
    "# Calculate the test error (Mean Squared Error)\n",
    "ridge_mse = mean_squared_error(y_test, y_pred_ridge)\n",
    "\n",
    "# Output the results\n",
    "print(f\"Best λ (alpha) chosen by cross-validation: {ridge_model.alpha_}\")\n",
    "print(f\"Ridge Regression Test Error (MSE): {ridge_mse}\")"
   ]
  },
  {
   "cell_type": "markdown",
   "metadata": {},
   "source": [
    "(d) Fit a lasso model on the training set, with λ chosen by cross-\n",
    "validation. Report the test error obtained, along with the num-\n",
    "ber of non-zero coefficient estimates."
   ]
  },
  {
   "cell_type": "code",
   "execution_count": null,
   "metadata": {},
   "outputs": [
    {
     "name": "stdout",
     "output_type": "stream",
     "text": [
      "Best λ (alpha) chosen by cross-validation: 0.001\n",
      "Lasso Regression Test Error (MSE): 1931801.797062018\n",
      "Number of non-zero coefficients in Lasso model: 17\n"
     ]
    }
   ],
   "source": [
    "from sklearn.linear_model import LassoCV\n",
    "from sklearn.metrics import mean_squared_error\n",
    "import numpy as np\n",
    "\n",
    "# Step (d): Fit a lasso regression model with cross-validation\n",
    "# Use LassoCV to automatically find the best λ (alpha) using cross-validation\n",
    "lasso_model = LassoCV(\n",
    "    alphas=np.logspace(-3, 1, 100), cv=5, random_state=42\n",
    ")  # Specify λ values for cross-validation\n",
    "lasso_model.fit(X_train, y_train)  # Train the model on the training set\n",
    "\n",
    "# Predict on the test set\n",
    "y_pred_lasso = lasso_model.predict(X_test)\n",
    "\n",
    "# Calculate the test error (Mean Squared Error)\n",
    "lasso_mse = mean_squared_error(y_test, y_pred_lasso)\n",
    "\n",
    "# Count the number of non-zero coefficients\n",
    "non_zero_coefficients = np.sum(lasso_model.coef_ != 0)\n",
    "\n",
    "# Output the results\n",
    "print(f\"Best λ (alpha) chosen by cross-validation: {lasso_model.alpha_}\")\n",
    "print(f\"Lasso Regression Test Error (MSE): {lasso_mse}\")\n",
    "print(f\"Number of non-zero coefficients in Lasso model: {non_zero_coefficients}\")"
   ]
  }
 ],
 "metadata": {
  "kernelspec": {
   "display_name": "langchain-kr-dTzZVxnG-py3.11",
   "language": "python",
   "name": "python3"
  },
  "language_info": {
   "codemirror_mode": {
    "name": "ipython",
    "version": 3
   },
   "file_extension": ".py",
   "mimetype": "text/x-python",
   "name": "python",
   "nbconvert_exporter": "python",
   "pygments_lexer": "ipython3",
   "version": "3.11.9"
  }
 },
 "nbformat": 4,
 "nbformat_minor": 2
}
